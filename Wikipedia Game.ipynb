{
 "cells": [
  {
   "cell_type": "code",
   "execution_count": 198,
   "metadata": {},
   "outputs": [],
   "source": [
    "from bs4 import BeautifulSoup\n",
    "import urllib.request\n",
    "from queue import Queue"
   ]
  },
  {
   "cell_type": "code",
   "execution_count": 199,
   "metadata": {},
   "outputs": [],
   "source": [
    "def get_outlinks(url):\n",
    "    s = set()\n",
    "    resp = urllib.request.urlopen(url)\n",
    "    soup = BeautifulSoup(resp, \"lxml\", from_encoding=resp.info().get_param('charset'))\n",
    "\n",
    "    for link in soup.find_all('a', href=True):\n",
    "        outlink = link['href']\n",
    "        # ignore the links not starting with /wiki/\n",
    "        if outlink.startswith('/wiki/') and outlink.count('/') == 2 and outlink.find(':') == -1:\n",
    "            s.add(outlink[len(\"/wiki/\"):])\n",
    "    return s"
   ]
  },
  {
   "cell_type": "code",
   "execution_count": 200,
   "metadata": {},
   "outputs": [],
   "source": [
    "def find_path(start_url, end_url_name):\n",
    "    q = Queue()\n",
    "    parent = {}\n",
    "    found = False\n",
    "    start_url_name = start_url.split('/')[-1]\n",
    "    parent[start_url_name] = None\n",
    "    print(\"Finding path..Please wait\")\n",
    "    \n",
    "    # get the list of urls on start page\n",
    "    first_child = get_outlinks(start_url)\n",
    "    for i in first_child:\n",
    "        parent[i] = start_url_name\n",
    "        q.put(i)\n",
    "        if i == -1:\n",
    "            found = True\n",
    "    \n",
    "    while not q.empty() and not found:\n",
    "        current_link = q.get()\n",
    "        child = get_outlinks(\"https://en.wikipedia.org/wiki/{}\".format(current_link))\n",
    "        for i in child:\n",
    "            if i not in parent:\n",
    "                parent[i] = current_link\n",
    "                q.put(i)\n",
    "                if i == end_url_name:\n",
    "                    #we found the link\n",
    "                    found = True\n",
    "                    break\n",
    "                    \n",
    "    print(\"The path is being found, creating a path now..\")\n",
    "    #build the path now\n",
    "    result = []\n",
    "    temp = end_url_name\n",
    "    while temp != start_url_name:\n",
    "        if(temp):\n",
    "            result.insert(0, parent[temp])\n",
    "            temp = parent[parent[temp]]\n",
    "        else:\n",
    "            break\n",
    "    result.insert(0, start_url_name) if result[0] != start_url_name else None\n",
    "    result.append(end_url_name)\n",
    "    return result"
   ]
  },
  {
   "cell_type": "code",
   "execution_count": 205,
   "metadata": {},
   "outputs": [
    {
     "name": "stdout",
     "output_type": "stream",
     "text": [
      "Finding path..Please wait\n",
      "The path is being found, creating a path now..\n"
     ]
    },
    {
     "data": {
      "text/plain": [
       "['United_States', 'New_York_(state)', 'East_River']"
      ]
     },
     "execution_count": 205,
     "metadata": {},
     "output_type": "execute_result"
    }
   ],
   "source": [
    "find_path(\"https://en.wikipedia.org/wiki/United_States\", \"East_River\")"
   ]
  },
  {
   "cell_type": "code",
   "execution_count": null,
   "metadata": {
    "collapsed": true
   },
   "outputs": [],
   "source": []
  }
 ],
 "metadata": {
  "kernelspec": {
   "display_name": "Python 3",
   "language": "python",
   "name": "python3"
  },
  "language_info": {
   "codemirror_mode": {
    "name": "ipython",
    "version": 3
   },
   "file_extension": ".py",
   "mimetype": "text/x-python",
   "name": "python",
   "nbconvert_exporter": "python",
   "pygments_lexer": "ipython3",
   "version": "3.6.1"
  }
 },
 "nbformat": 4,
 "nbformat_minor": 2
}
